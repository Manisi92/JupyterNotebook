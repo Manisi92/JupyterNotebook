{
 "cells": [
  {
   "cell_type": "markdown",
   "metadata": {},
   "source": [
    "<center>\n",
    "    <img src=\"https://cf-courses-data.s3.us.cloud-object-storage.appdomain.cloud/IBMDeveloperSkillsNetwork-DS0105EN-SkillsNetwork/labs/Module2/images/SN_web_lightmode.png\" width=\"300\" alt=\"cognitiveclass.ai logo\">\n",
    "</center>\n"
   ]
  },
  {
   "cell_type": "markdown",
   "metadata": {},
   "source": [
    "Esercizio 2 - Creare una cella markdown con il titolo del quaderno. (1 pt)"
   ]
  },
  {
   "cell_type": "markdown",
   "metadata": {},
   "source": [
    "# Data Science Notebook"
   ]
  },
  {
   "cell_type": "markdown",
   "metadata": {},
   "source": [
    "Esercizio 3 - Creare una cella markdown per un'introduzione (1 punto)"
   ]
  },
  {
   "cell_type": "markdown",
   "metadata": {},
   "source": [
    "## Introduzione\n",
    "In questo notebook esploreremo gli strumenti e le librerie principali utilizzati nella scienza dei dati. Impareremo anche alcune operazioni aritmetiche di base."
   ]
  },
  {
   "cell_type": "markdown",
   "metadata": {},
   "source": [
    "Esercizio 4 - Elencare i linguaggi della scienza dei dati (3 punti)"
   ]
  },
  {
   "cell_type": "code",
   "execution_count": null,
   "metadata": {},
   "outputs": [],
   "source": [
    "## Linguaggi della Scienza dei Dati\n",
    "- Python\n",
    "- R\n",
    "- SQL\n",
    "- Julia"
   ]
  },
  {
   "cell_type": "markdown",
   "metadata": {},
   "source": [
    "Esercizio 5 - Elencare le librerie di scienza dei dati (3 punti)"
   ]
  },
  {
   "cell_type": "markdown",
   "metadata": {},
   "source": [
    "## Librerie della Scienza dei Dati\n",
    "- pandas\n",
    "- numpy\n",
    "- matplotlib\n",
    "- scikit-learn\n",
    "- tensorflow"
   ]
  },
  {
   "cell_type": "markdown",
   "metadata": {},
   "source": [
    "Esercizio 6 - Creare una tabella di strumenti di Data Science (3 punti)"
   ]
  },
  {
   "cell_type": "markdown",
   "metadata": {},
   "source": [
    "## Strumenti di Data Science\n",
    "\n",
    "| Strumento       | Descrizione                           |\n",
    "|-----------------|---------------------------------------|\n",
    "| Jupyter         | Ambiente di sviluppo interattivo per Python |\n",
    "| GitHub          | Piattaforma per il controllo versione e collaborazione |\n",
    "| Tableau         | Strumento per la visualizzazione dei dati |"
   ]
  },
  {
   "cell_type": "markdown",
   "metadata": {},
   "source": [
    "Esercizio 7 - Introduzione alle espressioni aritmetiche (1 punto)"
   ]
  },
  {
   "cell_type": "markdown",
   "metadata": {},
   "source": [
    "## Esempi di Espressioni Aritmetiche\n",
    "In Python possiamo eseguire operazioni aritmetiche di base come somma, sottrazione, moltiplicazione e divisione."
   ]
  },
  {
   "cell_type": "markdown",
   "metadata": {},
   "source": [
    "Esercizio 8 - Crea una cella di codice per moltiplicare e aggiungere numeri (2 punti)"
   ]
  },
  {
   "cell_type": "code",
   "execution_count": null,
   "metadata": {},
   "outputs": [],
   "source": [
    "# Eseguire somma e moltiplicazione\n",
    "num1 = 5\n",
    "num2 = 3\n",
    "\n",
    "somma = num1 + num2\n",
    "moltiplicazione = num1 * num2\n",
    "\n",
    "print(f\"La somma è: {somma}\")\n",
    "print(f\"La moltiplicazione è: {moltiplicazione}\")"
   ]
  },
  {
   "cell_type": "markdown",
   "metadata": {},
   "source": [
    "Esercizio 9 - Crei una cella di codice per convertire i minuti in ore. (2 pt)"
   ]
  },
  {
   "cell_type": "code",
   "execution_count": null,
   "metadata": {},
   "outputs": [],
   "source": [
    "# Convertire i minuti in ore\n",
    "minuti = 150\n",
    "ore = minuti / 60\n",
    "print(f\"{minuti} minuti sono equivalenti a {ore} ore.\")"
   ]
  },
  {
   "cell_type": "markdown",
   "metadata": {},
   "source": [
    "Esercizio 10 - Inserire una cella markdown per elencare gli obiettivi (3 punti)"
   ]
  },
  {
   "cell_type": "markdown",
   "metadata": {},
   "source": [
    "## Obiettivi\n",
    "- Comprendere i linguaggi di programmazione utilizzati nella scienza dei dati.\n",
    "- Apprendere l'uso delle librerie di Python.\n",
    "- Imparare a eseguire operazioni aritmetiche."
   ]
  },
  {
   "cell_type": "markdown",
   "metadata": {},
   "source": [
    "Esercizio 11 - Crea una cella markdown per indicare il nome dell'Autore (2 punti)"
   ]
  },
  {
   "cell_type": "code",
   "execution_count": null,
   "metadata": {},
   "outputs": [],
   "source": [
    "## Autore\n",
    "Questo notebook è stato creato da Andrea"
   ]
  }
 ],
 "metadata": {
  "kernelspec": {
   "display_name": "Python 3 (ipykernel)",
   "language": "python",
   "name": "python3"
  },
  "language_info": {
   "codemirror_mode": {
    "name": "ipython",
    "version": 3
   },
   "file_extension": ".py",
   "mimetype": "text/x-python",
   "name": "python",
   "nbconvert_exporter": "python",
   "pygments_lexer": "ipython3",
   "version": "3.12.8"
  }
 },
 "nbformat": 4,
 "nbformat_minor": 4
}
