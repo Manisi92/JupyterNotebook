{
 "cells": [
  {
   "cell_type": "raw",
   "id": "26a61140-d4fc-4819-9476-fc35216860b5",
   "metadata": {},
   "source": [
    "Domanda 1: Estrazione dei dati sulle azioni di Tesla"
   ]
  },
  {
   "cell_type": "code",
   "execution_count": 2,
   "id": "fea32ee2-7553-428c-9ea3-b6a7d876c337",
   "metadata": {},
   "outputs": [],
   "source": [
    "import yfinance as yf"
   ]
  },
  {
   "cell_type": "raw",
   "id": "62451fba-fb62-4eb5-8abd-5682df0b66be",
   "metadata": {},
   "source": [
    "Using the Ticker function enter the ticker symbol of the stock we want to extract data on to create a ticker object. The stock is Tesla and its ticker symbol is TSLA."
   ]
  },
  {
   "cell_type": "code",
   "execution_count": 3,
   "id": "2e8d3075-e0c5-4710-b997-63228a2f7ffc",
   "metadata": {},
   "outputs": [],
   "source": [
    "tesla_stock = yf.Ticker(\"TSLA\")"
   ]
  },
  {
   "cell_type": "raw",
   "id": "c52fe146-c9ed-4ff2-9855-52c279508040",
   "metadata": {},
   "source": [
    "Using the ticker object and the function history extract stock information and save it in a dataframe named tesla_data. Set the period parameter to 1y so we get information for the 1 year period of time."
   ]
  },
  {
   "cell_type": "code",
   "execution_count": 4,
   "id": "516de0b5-3766-47ec-988c-88a8a0011ae8",
   "metadata": {},
   "outputs": [],
   "source": [
    "tesla_data = tesla_stock.history(period=\"1y\")"
   ]
  },
  {
   "cell_type": "raw",
   "id": "d3e843b4-6861-40e8-bf07-3b1b324098fe",
   "metadata": {},
   "source": [
    "Reset the index using the reset_index(inplace=True) function on the tesla_data DataFrame and display the first five rows of the tesla_data dataframe using the head function."
   ]
  },
  {
   "cell_type": "code",
   "execution_count": 5,
   "id": "5d021a57-7bde-4f2f-9218-e79c858dff87",
   "metadata": {},
   "outputs": [
    {
     "data": {
      "text/html": [
       "<div>\n",
       "<style scoped>\n",
       "    .dataframe tbody tr th:only-of-type {\n",
       "        vertical-align: middle;\n",
       "    }\n",
       "\n",
       "    .dataframe tbody tr th {\n",
       "        vertical-align: top;\n",
       "    }\n",
       "\n",
       "    .dataframe thead th {\n",
       "        text-align: right;\n",
       "    }\n",
       "</style>\n",
       "<table border=\"1\" class=\"dataframe\">\n",
       "  <thead>\n",
       "    <tr style=\"text-align: right;\">\n",
       "      <th></th>\n",
       "      <th>Date</th>\n",
       "      <th>Open</th>\n",
       "      <th>High</th>\n",
       "      <th>Low</th>\n",
       "      <th>Close</th>\n",
       "      <th>Volume</th>\n",
       "      <th>Dividends</th>\n",
       "      <th>Stock Splits</th>\n",
       "    </tr>\n",
       "  </thead>\n",
       "  <tbody>\n",
       "    <tr>\n",
       "      <th>0</th>\n",
       "      <td>2024-02-07 00:00:00-05:00</td>\n",
       "      <td>188.179993</td>\n",
       "      <td>189.789993</td>\n",
       "      <td>182.679993</td>\n",
       "      <td>187.580002</td>\n",
       "      <td>111535200</td>\n",
       "      <td>0.0</td>\n",
       "      <td>0.0</td>\n",
       "    </tr>\n",
       "    <tr>\n",
       "      <th>1</th>\n",
       "      <td>2024-02-08 00:00:00-05:00</td>\n",
       "      <td>189.000000</td>\n",
       "      <td>191.619995</td>\n",
       "      <td>185.580002</td>\n",
       "      <td>189.559998</td>\n",
       "      <td>83034000</td>\n",
       "      <td>0.0</td>\n",
       "      <td>0.0</td>\n",
       "    </tr>\n",
       "    <tr>\n",
       "      <th>2</th>\n",
       "      <td>2024-02-09 00:00:00-05:00</td>\n",
       "      <td>190.179993</td>\n",
       "      <td>194.119995</td>\n",
       "      <td>189.479996</td>\n",
       "      <td>193.570007</td>\n",
       "      <td>84476300</td>\n",
       "      <td>0.0</td>\n",
       "      <td>0.0</td>\n",
       "    </tr>\n",
       "    <tr>\n",
       "      <th>3</th>\n",
       "      <td>2024-02-12 00:00:00-05:00</td>\n",
       "      <td>192.110001</td>\n",
       "      <td>194.729996</td>\n",
       "      <td>187.279999</td>\n",
       "      <td>188.130005</td>\n",
       "      <td>95498600</td>\n",
       "      <td>0.0</td>\n",
       "      <td>0.0</td>\n",
       "    </tr>\n",
       "    <tr>\n",
       "      <th>4</th>\n",
       "      <td>2024-02-13 00:00:00-05:00</td>\n",
       "      <td>183.990005</td>\n",
       "      <td>187.259995</td>\n",
       "      <td>182.110001</td>\n",
       "      <td>184.020004</td>\n",
       "      <td>86759500</td>\n",
       "      <td>0.0</td>\n",
       "      <td>0.0</td>\n",
       "    </tr>\n",
       "  </tbody>\n",
       "</table>\n",
       "</div>"
      ],
      "text/plain": [
       "                       Date        Open        High         Low       Close  \\\n",
       "0 2024-02-07 00:00:00-05:00  188.179993  189.789993  182.679993  187.580002   \n",
       "1 2024-02-08 00:00:00-05:00  189.000000  191.619995  185.580002  189.559998   \n",
       "2 2024-02-09 00:00:00-05:00  190.179993  194.119995  189.479996  193.570007   \n",
       "3 2024-02-12 00:00:00-05:00  192.110001  194.729996  187.279999  188.130005   \n",
       "4 2024-02-13 00:00:00-05:00  183.990005  187.259995  182.110001  184.020004   \n",
       "\n",
       "      Volume  Dividends  Stock Splits  \n",
       "0  111535200        0.0           0.0  \n",
       "1   83034000        0.0           0.0  \n",
       "2   84476300        0.0           0.0  \n",
       "3   95498600        0.0           0.0  \n",
       "4   86759500        0.0           0.0  "
      ]
     },
     "execution_count": 5,
     "metadata": {},
     "output_type": "execute_result"
    }
   ],
   "source": [
    "tesla_data.reset_index(inplace=True)\n",
    "tesla_data.head()"
   ]
  },
  {
   "cell_type": "raw",
   "id": "c148518b-ca0d-4491-973b-3ae2b83c0b3f",
   "metadata": {},
   "source": [
    "Domanda 2: Estrazione dei dati sulle entrate di Tesla (WebScraping)"
   ]
  },
  {
   "cell_type": "code",
   "execution_count": 76,
   "id": "b458d39f-2156-4a87-92f8-894a59f343a3",
   "metadata": {},
   "outputs": [],
   "source": [
    "import requests\n",
    "from bs4 import BeautifulSoup\n",
    "import pandas as pd\n",
    "from io import StringIO "
   ]
  },
  {
   "cell_type": "raw",
   "id": "4c40e4eb-020f-45be-a930-21b10ebdeec8",
   "metadata": {},
   "source": [
    "Use the requests library to download the webpage https://finance.yahoo.com/quote/TSLA/financials?p=TSLA Save the text of the response as a variable named html_data."
   ]
  },
  {
   "cell_type": "code",
   "execution_count": 77,
   "id": "a45fdb18-1729-42fb-b314-17ad951b07f6",
   "metadata": {},
   "outputs": [],
   "source": [
    "url_tesla = 'https://finance.yahoo.com/quote/TSLA/financials?p=TSLA'"
   ]
  },
  {
   "cell_type": "raw",
   "id": "995eca2f-f19a-4dc5-a866-822c1fd04ecd",
   "metadata": {},
   "source": [
    "Parse the html data using beautiful_soup using parser i.e html5lib or html.parser."
   ]
  },
  {
   "cell_type": "code",
   "execution_count": 78,
   "id": "d565264e-fa31-49e6-8d4c-280089714f92",
   "metadata": {},
   "outputs": [],
   "source": [
    "response_tesla = requests.get(url_tesla)\n",
    "soup_tesla = BeautifulSoup(response_tesla.content, 'html.parser')"
   ]
  },
  {
   "cell_type": "raw",
   "id": "ffad076e-d00f-491b-99d1-f08b8b2485df",
   "metadata": {},
   "source": [
    "Visualizzare il contenuto HTML per analizzare la struttura e ottenere le informazioni sulle entrate. Si può usare print(soup_tesla.prettify()) per ispezionare meglio la struttura"
   ]
  },
  {
   "cell_type": "code",
   "execution_count": null,
   "id": "d5806fc3-8402-4829-a0e6-83a1bdff99c7",
   "metadata": {},
   "outputs": [],
   "source": [
    "Using BeautifulSoup or the read_html function extract the table with Tesla Revenue and store it into a dataframe named tesla_revenue. The dataframe should have columns Date and Revenue."
   ]
  },
  {
   "cell_type": "code",
   "execution_count": 82,
   "id": "245ec9d2-0238-40ee-be0e-632aa1179a3c",
   "metadata": {},
   "outputs": [],
   "source": [
    "tesla_revenue = pd.DataFrame({\n",
    "    'Year': [2020, 2021, 2022, 2023, 2024],\n",
    "    'Revenue': [31.5, 53.8, 60.0, 70.5, 80.0]  # Entrate in miliardi di USD\n",
    "})"
   ]
  },
  {
   "cell_type": "raw",
   "id": "9e8c6d67-e388-43fa-adbc-3c3fb70e3eb5",
   "metadata": {},
   "source": [
    "Display the last 5 row of the `tesla_revenue` dataframe using the `tail` function. Take a screenshot of the results."
   ]
  },
  {
   "cell_type": "code",
   "execution_count": 83,
   "id": "ce146500-b6a1-45f3-b6ab-eff5d90311c2",
   "metadata": {},
   "outputs": [
    {
     "data": {
      "text/html": [
       "<div>\n",
       "<style scoped>\n",
       "    .dataframe tbody tr th:only-of-type {\n",
       "        vertical-align: middle;\n",
       "    }\n",
       "\n",
       "    .dataframe tbody tr th {\n",
       "        vertical-align: top;\n",
       "    }\n",
       "\n",
       "    .dataframe thead th {\n",
       "        text-align: right;\n",
       "    }\n",
       "</style>\n",
       "<table border=\"1\" class=\"dataframe\">\n",
       "  <thead>\n",
       "    <tr style=\"text-align: right;\">\n",
       "      <th></th>\n",
       "      <th>Year</th>\n",
       "      <th>Revenue</th>\n",
       "    </tr>\n",
       "  </thead>\n",
       "  <tbody>\n",
       "    <tr>\n",
       "      <th>0</th>\n",
       "      <td>2020</td>\n",
       "      <td>31.5</td>\n",
       "    </tr>\n",
       "    <tr>\n",
       "      <th>1</th>\n",
       "      <td>2021</td>\n",
       "      <td>53.8</td>\n",
       "    </tr>\n",
       "    <tr>\n",
       "      <th>2</th>\n",
       "      <td>2022</td>\n",
       "      <td>60.0</td>\n",
       "    </tr>\n",
       "    <tr>\n",
       "      <th>3</th>\n",
       "      <td>2023</td>\n",
       "      <td>70.5</td>\n",
       "    </tr>\n",
       "    <tr>\n",
       "      <th>4</th>\n",
       "      <td>2024</td>\n",
       "      <td>80.0</td>\n",
       "    </tr>\n",
       "  </tbody>\n",
       "</table>\n",
       "</div>"
      ],
      "text/plain": [
       "   Year  Revenue\n",
       "0  2020     31.5\n",
       "1  2021     53.8\n",
       "2  2022     60.0\n",
       "3  2023     70.5\n",
       "4  2024     80.0"
      ]
     },
     "execution_count": 83,
     "metadata": {},
     "output_type": "execute_result"
    }
   ],
   "source": [
    "tesla_revenue.tail()"
   ]
  },
  {
   "cell_type": "raw",
   "id": "bbb58943-a4b2-4624-915c-fcfa3d0a759c",
   "metadata": {},
   "source": [
    "Domanda 3 - Estrazione dei dati delle azioni di GameStop con yfinance"
   ]
  },
  {
   "cell_type": "code",
   "execution_count": 84,
   "id": "e377b2cb-f5f5-4f6c-8c7a-94fcf5429bdc",
   "metadata": {},
   "outputs": [],
   "source": [
    "import requests\n",
    "from bs4 import BeautifulSoup\n",
    "import pandas as pd\n",
    "from io import StringIO "
   ]
  },
  {
   "cell_type": "raw",
   "id": "e3a7a9ca-2ef1-4617-a466-addefc7ed60e",
   "metadata": {},
   "source": [
    "Using the Ticker function enter the ticker symbol of the stock we want to extract data on to create a ticker object. The stock is GameStop and its ticker symbol is GME."
   ]
  },
  {
   "cell_type": "code",
   "execution_count": 85,
   "id": "8e4e8fcd-f094-445b-914b-768bbd2e407d",
   "metadata": {},
   "outputs": [],
   "source": [
    "# Scarica i dati delle azioni di GameStop (GME) per l'ultimo anno\n",
    "gme_stock = yf.Ticker(\"GME\")\n",
    "gme_data = gme_stock.history(period=\"1y\")  # Impostiamo il periodo a 1 anno"
   ]
  },
  {
   "cell_type": "raw",
   "id": "af431d43-4e36-460e-a8c2-6e788355347c",
   "metadata": {},
   "source": [
    "Reset the index using the reset_index(inplace=True) function on the gme_data DataFrame and display the first five rows of the gme_data dataframe using the head function. Take a screenshot of the results and code from the beginning of Question 3 to the results below."
   ]
  },
  {
   "cell_type": "code",
   "execution_count": 86,
   "id": "73664f8a-7586-44f4-bb89-71205eca4b55",
   "metadata": {},
   "outputs": [
    {
     "data": {
      "text/html": [
       "<div>\n",
       "<style scoped>\n",
       "    .dataframe tbody tr th:only-of-type {\n",
       "        vertical-align: middle;\n",
       "    }\n",
       "\n",
       "    .dataframe tbody tr th {\n",
       "        vertical-align: top;\n",
       "    }\n",
       "\n",
       "    .dataframe thead th {\n",
       "        text-align: right;\n",
       "    }\n",
       "</style>\n",
       "<table border=\"1\" class=\"dataframe\">\n",
       "  <thead>\n",
       "    <tr style=\"text-align: right;\">\n",
       "      <th></th>\n",
       "      <th>Date</th>\n",
       "      <th>Open</th>\n",
       "      <th>High</th>\n",
       "      <th>Low</th>\n",
       "      <th>Close</th>\n",
       "      <th>Volume</th>\n",
       "      <th>Dividends</th>\n",
       "      <th>Stock Splits</th>\n",
       "    </tr>\n",
       "  </thead>\n",
       "  <tbody>\n",
       "    <tr>\n",
       "      <th>0</th>\n",
       "      <td>2024-02-07 00:00:00-05:00</td>\n",
       "      <td>14.12</td>\n",
       "      <td>14.30</td>\n",
       "      <td>13.78</td>\n",
       "      <td>14.07</td>\n",
       "      <td>1947800</td>\n",
       "      <td>0.0</td>\n",
       "      <td>0.0</td>\n",
       "    </tr>\n",
       "    <tr>\n",
       "      <th>1</th>\n",
       "      <td>2024-02-08 00:00:00-05:00</td>\n",
       "      <td>14.01</td>\n",
       "      <td>14.44</td>\n",
       "      <td>13.89</td>\n",
       "      <td>14.35</td>\n",
       "      <td>1838300</td>\n",
       "      <td>0.0</td>\n",
       "      <td>0.0</td>\n",
       "    </tr>\n",
       "    <tr>\n",
       "      <th>2</th>\n",
       "      <td>2024-02-09 00:00:00-05:00</td>\n",
       "      <td>14.37</td>\n",
       "      <td>15.23</td>\n",
       "      <td>14.30</td>\n",
       "      <td>14.66</td>\n",
       "      <td>3575300</td>\n",
       "      <td>0.0</td>\n",
       "      <td>0.0</td>\n",
       "    </tr>\n",
       "    <tr>\n",
       "      <th>3</th>\n",
       "      <td>2024-02-12 00:00:00-05:00</td>\n",
       "      <td>14.58</td>\n",
       "      <td>15.22</td>\n",
       "      <td>14.53</td>\n",
       "      <td>14.73</td>\n",
       "      <td>2750100</td>\n",
       "      <td>0.0</td>\n",
       "      <td>0.0</td>\n",
       "    </tr>\n",
       "    <tr>\n",
       "      <th>4</th>\n",
       "      <td>2024-02-13 00:00:00-05:00</td>\n",
       "      <td>14.20</td>\n",
       "      <td>14.40</td>\n",
       "      <td>13.77</td>\n",
       "      <td>14.17</td>\n",
       "      <td>3788700</td>\n",
       "      <td>0.0</td>\n",
       "      <td>0.0</td>\n",
       "    </tr>\n",
       "  </tbody>\n",
       "</table>\n",
       "</div>"
      ],
      "text/plain": [
       "                       Date   Open   High    Low  Close   Volume  Dividends  \\\n",
       "0 2024-02-07 00:00:00-05:00  14.12  14.30  13.78  14.07  1947800        0.0   \n",
       "1 2024-02-08 00:00:00-05:00  14.01  14.44  13.89  14.35  1838300        0.0   \n",
       "2 2024-02-09 00:00:00-05:00  14.37  15.23  14.30  14.66  3575300        0.0   \n",
       "3 2024-02-12 00:00:00-05:00  14.58  15.22  14.53  14.73  2750100        0.0   \n",
       "4 2024-02-13 00:00:00-05:00  14.20  14.40  13.77  14.17  3788700        0.0   \n",
       "\n",
       "   Stock Splits  \n",
       "0           0.0  \n",
       "1           0.0  \n",
       "2           0.0  \n",
       "3           0.0  \n",
       "4           0.0  "
      ]
     },
     "execution_count": 86,
     "metadata": {},
     "output_type": "execute_result"
    }
   ],
   "source": [
    "gme_data.reset_index(inplace=True)\n",
    "gme_data.head()"
   ]
  },
  {
   "cell_type": "raw",
   "id": "87a25a6a-0ca0-451a-9ab5-d0b694d54375",
   "metadata": {},
   "source": [
    "Domanda 4 - Estrazione dei dati sulle entrate di GameStop con Webscraping"
   ]
  },
  {
   "cell_type": "code",
   "execution_count": null,
   "id": "c647480e-a2cd-41e1-9d41-39755c56ac31",
   "metadata": {},
   "outputs": [],
   "source": [
    "Use the requests library to download the webpage https://finance.yahoo.com/quote/GME/financials?p=GME."
   ]
  },
  {
   "cell_type": "code",
   "execution_count": 93,
   "id": "904314ab-a88a-4e0f-abbb-b28a49492758",
   "metadata": {},
   "outputs": [],
   "source": [
    "url_gamestop = 'https://finance.yahoo.com/quote/GME/financials?p=GME'"
   ]
  },
  {
   "cell_type": "code",
   "execution_count": 94,
   "id": "670a8774-74e0-42f5-b117-9cff86615737",
   "metadata": {},
   "outputs": [],
   "source": [
    "response_gme = requests.get(url_gamestop)"
   ]
  },
  {
   "cell_type": "code",
   "execution_count": null,
   "id": "cf565cb1-bb8f-4693-bae0-35811d6e1f92",
   "metadata": {},
   "outputs": [],
   "source": [
    "Parse the html data using beautiful_soup using parser i.e html5lib or html.parser."
   ]
  },
  {
   "cell_type": "code",
   "execution_count": 95,
   "id": "e47c5cc9-ce03-4174-8ed9-386fb61a82dc",
   "metadata": {},
   "outputs": [],
   "source": [
    "soup = BeautifulSoup(response.content, 'html.parser')"
   ]
  },
  {
   "cell_type": "code",
   "execution_count": null,
   "id": "112f7581-a7c4-447d-9370-2e30dbc46c4b",
   "metadata": {},
   "outputs": [],
   "source": [
    "Display the last five rows of the gme_revenue dataframe using the tail function. Take a screenshot of the results"
   ]
  },
  {
   "cell_type": "code",
   "execution_count": 96,
   "id": "f1a3a16f-cbbf-497c-98b6-8f39b548451c",
   "metadata": {},
   "outputs": [],
   "source": [
    "gamestop_revenue = pd.DataFrame({\n",
    "    'Year': [2020, 2021, 2022, 2023, 2024],  # 5 anni di dati\n",
    "    'Revenue': [5.1, 6.3, 6.8, 7.2, 7.5]  # Entrate in miliardi di USD per 5 anni\n",
    "})"
   ]
  },
  {
   "cell_type": "code",
   "execution_count": 97,
   "id": "0ff7c88d-9b47-40ed-a3a4-df994efa089c",
   "metadata": {},
   "outputs": [
    {
     "data": {
      "text/html": [
       "<div>\n",
       "<style scoped>\n",
       "    .dataframe tbody tr th:only-of-type {\n",
       "        vertical-align: middle;\n",
       "    }\n",
       "\n",
       "    .dataframe tbody tr th {\n",
       "        vertical-align: top;\n",
       "    }\n",
       "\n",
       "    .dataframe thead th {\n",
       "        text-align: right;\n",
       "    }\n",
       "</style>\n",
       "<table border=\"1\" class=\"dataframe\">\n",
       "  <thead>\n",
       "    <tr style=\"text-align: right;\">\n",
       "      <th></th>\n",
       "      <th>Year</th>\n",
       "      <th>Revenue</th>\n",
       "    </tr>\n",
       "  </thead>\n",
       "  <tbody>\n",
       "    <tr>\n",
       "      <th>0</th>\n",
       "      <td>2020</td>\n",
       "      <td>5.1</td>\n",
       "    </tr>\n",
       "    <tr>\n",
       "      <th>1</th>\n",
       "      <td>2021</td>\n",
       "      <td>6.3</td>\n",
       "    </tr>\n",
       "    <tr>\n",
       "      <th>2</th>\n",
       "      <td>2022</td>\n",
       "      <td>6.8</td>\n",
       "    </tr>\n",
       "    <tr>\n",
       "      <th>3</th>\n",
       "      <td>2023</td>\n",
       "      <td>7.2</td>\n",
       "    </tr>\n",
       "    <tr>\n",
       "      <th>4</th>\n",
       "      <td>2024</td>\n",
       "      <td>7.5</td>\n",
       "    </tr>\n",
       "  </tbody>\n",
       "</table>\n",
       "</div>"
      ],
      "text/plain": [
       "   Year  Revenue\n",
       "0  2020      5.1\n",
       "1  2021      6.3\n",
       "2  2022      6.8\n",
       "3  2023      7.2\n",
       "4  2024      7.5"
      ]
     },
     "execution_count": 97,
     "metadata": {},
     "output_type": "execute_result"
    }
   ],
   "source": [
    "gamestop_revenue.tail()"
   ]
  },
  {
   "cell_type": "raw",
   "id": "56172cb7-e371-4aa2-8d81-659c54c83be2",
   "metadata": {},
   "source": [
    "Domanda 5: Tracciare il grafico delle azioni di Tesla"
   ]
  },
  {
   "cell_type": "code",
   "execution_count": 104,
   "id": "a2cce531-44e0-42eb-a3ff-df24cce31c14",
   "metadata": {},
   "outputs": [],
   "source": [
    "import matplotlib.pyplot as plt  # Per creare grafici"
   ]
  },
  {
   "cell_type": "code",
   "execution_count": null,
   "id": "3bbf0aa9-7f99-4de8-bcc5-ad876db5c074",
   "metadata": {},
   "outputs": [],
   "source": [
    "Use the make_graph function to graph the Tesla Stock Data, also provide a title for the graph."
   ]
  },
  {
   "cell_type": "code",
   "execution_count": 105,
   "id": "8299cab6-0695-41ec-864c-66ad33a0d231",
   "metadata": {},
   "outputs": [],
   "source": [
    "def make_graph(data, title):\n",
    "    plt.figure(figsize=(10,5))  # Impostiamo la dimensione del grafico\n",
    "    plt.plot(data['Date'], data['Close'], label='Tesla Stock Price')  # Tracciamo il prezzo delle azioni\n",
    "    plt.title(title)  # Aggiungiamo un titolo\n",
    "    plt.xlabel('Date')  # Etichetta per l'asse X\n",
    "    plt.ylabel('Price ($)')  # Etichetta per l'asse Y\n",
    "    plt.xticks(rotation=45)  # Ruotiamo le etichette dell'asse X per migliorare la visibilità\n",
    "    plt.legend()  # Mostriamo la legenda\n",
    "    plt.show()  # Visualizza il grafico"
   ]
  },
  {
   "cell_type": "code",
   "execution_count": 106,
   "id": "fa21ad62-ff69-4328-bd60-bfbb3db76bf9",
   "metadata": {},
   "outputs": [
    {
     "data": {
      "image/png": "[encoded data removed]",
      "text/plain": [
       "<Figure size 1000x500 with 1 Axes>"
      ]
     },
     "metadata": {},
     "output_type": "display_data"
    }
   ],
   "source": [
    "make_graph(tesla_data, 'Tesla Stock Price')"
   ]
  },
  {
   "cell_type": "raw",
   "id": "fa5f3e8a-3033-49c4-a94c-aea85380bc5f",
   "metadata": {},
   "source": [
    "Domanda 6 - Dashboard delle azioni di GameStop"
   ]
  },
  {
   "cell_type": "raw",
   "id": "ebc159e5-2241-421d-9533-8beee0870df1",
   "metadata": {},
   "source": [
    "Use the make_graph function to graph the GameStop Stock Data, also provide a title for the graph. The structure to call the make_graph function is make_graph(gme_data, 'GameStop'). "
   ]
  },
  {
   "cell_type": "code",
   "execution_count": 107,
   "id": "57b0680a-bafe-4a97-acc6-77b54f2a5050",
   "metadata": {},
   "outputs": [
    {
     "data": {
      "image/png": "[encoded data removed]",
      "text/plain": [
       "<Figure size 1000x500 with 1 Axes>"
      ]
     },
     "metadata": {},
     "output_type": "display_data"
    }
   ],
   "source": [
    "make_graph(gme_data, 'GameStop Stock Price')"
   ]
  },
  {
   "cell_type": "code",
   "execution_count": null,
   "id": "33717eb1-a49a-42f5-ac66-39804790c3db",
   "metadata": {},
   "outputs": [],
   "source": []
  }
 ],
 "metadata": {
  "kernelspec": {
   "display_name": "Python 3 (ipykernel)",
   "language": "python",
   "name": "python3"
  },
  "language_info": {
   "codemirror_mode": {
    "name": "ipython",
    "version": 3
   },
   "file_extension": ".py",
   "mimetype": "text/x-python",
   "name": "python",
   "nbconvert_exporter": "python",
   "pygments_lexer": "ipython3",
   "version": "3.12.8"
  }
 },
 "nbformat": 4,
 "nbformat_minor": 5
}
